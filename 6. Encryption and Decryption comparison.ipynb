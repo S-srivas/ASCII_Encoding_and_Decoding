{
 "cells": [
  {
   "cell_type": "code",
   "execution_count": 7,
   "metadata": {},
   "outputs": [
    {
     "name": "stdout",
     "output_type": "stream",
     "text": [
      "Only in file1\n",
      "8 87\n",
      "9 105\n",
      "2 109\n",
      "4 100\n",
      "1 111\n",
      "5 97\n",
      "12 115\n",
      "3 101\n",
      "7 10\n",
      "6 121\n",
      "0 83\n",
      "10 108\n",
      "Only in file2\n",
      "0 Someday\n",
      "1 Wildside\n"
     ]
    }
   ],
   "source": [
    "with open('encryption') as f:\n",
    "    t1 = f.read().splitlines()\n",
    "    t1s = set(t1)\n",
    "\n",
    "with open('decryption') as f:\n",
    "    t2 = f.read().splitlines()\n",
    "    t2s = set(t2)\n",
    "\n",
    "#in file1 but not file2\n",
    "print ('Only in file1')\n",
    "for diff in t1s-t2s:\n",
    "    print (t1.index(diff), diff)\n",
    "\n",
    "#in file2 but not file1\n",
    "print ('Only in file2')\n",
    "for diff in t2s-t1s:\n",
    "    print (t2.index(diff), diff)"
   ]
  },
  {
   "cell_type": "code",
   "execution_count": null,
   "metadata": {},
   "outputs": [],
   "source": []
  }
 ],
 "metadata": {
  "kernelspec": {
   "display_name": "Python 3",
   "language": "python",
   "name": "python3"
  },
  "language_info": {
   "codemirror_mode": {
    "name": "ipython",
    "version": 3
   },
   "file_extension": ".py",
   "mimetype": "text/x-python",
   "name": "python",
   "nbconvert_exporter": "python",
   "pygments_lexer": "ipython3",
   "version": "3.6.4"
  }
 },
 "nbformat": 4,
 "nbformat_minor": 2
}
